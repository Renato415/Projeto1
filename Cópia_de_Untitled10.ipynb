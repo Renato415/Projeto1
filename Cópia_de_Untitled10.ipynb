{
  "nbformat": 4,
  "nbformat_minor": 0,
  "metadata": {
    "colab": {
      "provenance": [],
      "authorship_tag": "ABX9TyN+WipXpLo2wRec1PsBHwWc",
      "include_colab_link": true
    },
    "kernelspec": {
      "name": "python3",
      "display_name": "Python 3"
    },
    "language_info": {
      "name": "python"
    }
  },
  "cells": [
    {
      "cell_type": "markdown",
      "metadata": {
        "id": "view-in-github",
        "colab_type": "text"
      },
      "source": [
        "<a href=\"https://colab.research.google.com/github/Renato415/Projeto1/blob/main/C%C3%B3pia_de_Untitled10.ipynb\" target=\"_parent\"><img src=\"https://colab.research.google.com/assets/colab-badge.svg\" alt=\"Open In Colab\"/></a>"
      ]
    },
    {
      "cell_type": "code",
      "execution_count": null,
      "metadata": {
        "colab": {
          "base_uri": "https://localhost:8080/"
        },
        "id": "vQmgfU4HTzpd",
        "outputId": "53599bd9-259d-4435-c2ce-d6ef8e473df9"
      },
      "outputs": [
        {
          "output_type": "stream",
          "name": "stdout",
          "text": [
            "Digite um número: 25\n",
            "A raiz quadrada de 25.0 é 5.0: .2f. \n"
          ]
        }
      ],
      "source": [
        "import math\n",
        "# Solicita ao usuário que insira um número\n",
        "numero = float(input(\"Digite um número: \"))\n",
        "#Verifica se o número è maior ou igual a zero\n",
        "if numero >= 0:\n",
        "  raiz_quadrada = math.sqrt(numero)\n",
        "  print(f\"A raiz quadrada de {numero} é {raiz_quadrada}: .2f. \")\n",
        "else:\n",
        "  print(\"Não existe raiz real para este número!\")\n"
      ]
    },
    {
      "cell_type": "markdown",
      "source": [
        "Ex)5.1"
      ],
      "metadata": {
        "id": "b7HuGL2igB_T"
      }
    },
    {
      "cell_type": "code",
      "source": [
        "# Solicita ao usuário que insira o comprimento e a largura da camiseta\n",
        "comprimento = float(input(\"Digite o comprimento da camiseta em centímetros:\"))\n",
        "largura = float(input(\"Digite a largura da camiseeta em centímetros:\"))\n",
        "\n",
        "# Determina o tamanho da camiseta com base no comprimento e largura\n",
        "if comprimento <= 60 and largura <= 45:\n",
        "  tamanho = \"PP\"\n",
        "elif comprimento <= 65 and largura <= 48:\n",
        "  tamanho = \"P\"\n",
        "elif comprimento <= 70 and largura <= 51:\n",
        "  tamanho = \"M\"\n",
        "elif comprimento <= 75 and largura <= 54:\n",
        "  tamanho = \"G\"\n",
        "elif comprimento <= 80 and largura <= 57:\n",
        "  tamanho = \"GG\"\n",
        "else:\n",
        "  tamanho = \"XGG\"\n"
      ],
      "metadata": {
        "colab": {
          "base_uri": "https://localhost:8080/"
        },
        "id": "4gMpX-JEfxmi",
        "outputId": "f2aa9dc7-a0ae-4e63-d670-5f574b232599"
      },
      "execution_count": 5,
      "outputs": [
        {
          "name": "stdout",
          "output_type": "stream",
          "text": [
            "Digite o comprimento da camiseta em centímetros:60\n",
            "Digite a largura da camiseeta em centímetros:45\n"
          ]
        }
      ]
    }
  ]
}