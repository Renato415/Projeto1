{
  "nbformat": 4,
  "nbformat_minor": 0,
  "metadata": {
    "colab": {
      "provenance": [],
      "authorship_tag": "ABX9TyMVjjYsdATaBMKdf4qX5XLQ",
      "include_colab_link": true
    },
    "kernelspec": {
      "name": "python3",
      "display_name": "Python 3"
    },
    "language_info": {
      "name": "python"
    }
  },
  "cells": [
    {
      "cell_type": "markdown",
      "metadata": {
        "id": "view-in-github",
        "colab_type": "text"
      },
      "source": [
        "<a href=\"https://colab.research.google.com/github/Renato415/Projeto1/blob/main/Untitled.ipynb\" target=\"_parent\"><img src=\"https://colab.research.google.com/assets/colab-badge.svg\" alt=\"Open In Colab\"/></a>"
      ]
    },
    {
      "cell_type": "code",
      "execution_count": 4,
      "metadata": {
        "colab": {
          "base_uri": "https://localhost:8080/"
        },
        "id": "DQxnpBqYMXub",
        "outputId": "0351825c-954e-4866-f4aa-806affc278b3"
      },
      "outputs": [
        {
          "output_type": "stream",
          "name": "stdout",
          "text": [
            "Digite um numero:5\n",
            "esse numero não multiplo de 3\n"
          ]
        }
      ],
      "source": [
        "#inicio\n",
        "x = int(input(\"Digite um numero:\"))\n",
        "\n",
        "if x%3==0:\n",
        "  print(\"esse numero é multiplo de 3\")\n",
        "else:\n",
        "  print(\"esse numero não multiplo de 3\")"
      ]
    }
  ]
}