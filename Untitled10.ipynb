{
  "nbformat": 4,
  "nbformat_minor": 0,
  "metadata": {
    "colab": {
      "provenance": [],
      "authorship_tag": "ABX9TyNW3Jo4PPupQE5GN3PLLwDe",
      "include_colab_link": true
    },
    "kernelspec": {
      "name": "python3",
      "display_name": "Python 3"
    },
    "language_info": {
      "name": "python"
    }
  },
  "cells": [
    {
      "cell_type": "markdown",
      "metadata": {
        "id": "view-in-github",
        "colab_type": "text"
      },
      "source": [
        "<a href=\"https://colab.research.google.com/github/Renato415/Projeto1/blob/main/Untitled10.ipynb\" target=\"_parent\"><img src=\"https://colab.research.google.com/assets/colab-badge.svg\" alt=\"Open In Colab\"/></a>"
      ]
    },
    {
      "cell_type": "markdown",
      "source": [
        "\n"
      ],
      "metadata": {
        "id": "4rRTlePeYCW0"
      }
    },
    {
      "cell_type": "markdown",
      "source": [],
      "metadata": {
        "id": "vVq7kAi1YamO"
      }
    },
    {
      "cell_type": "code",
      "execution_count": 4,
      "metadata": {
        "colab": {
          "base_uri": "https://localhost:8080/"
        },
        "id": "vQmgfU4HTzpd",
        "outputId": "53599bd9-259d-4435-c2ce-d6ef8e473df9"
      },
      "outputs": [
        {
          "output_type": "stream",
          "name": "stdout",
          "text": [
            "Digite um número: 25\n",
            "A raiz quadrada de 25.0 é 5.0: .2f. \n"
          ]
        }
      ],
      "source": [
        "import math\n",
        "# Solicita ao usuário que insira um número\n",
        "numero = float(input(\"Digite um número: \"))\n",
        "#Verifica se o número è maior ou igual a zero\n",
        "if numero >= 0:\n",
        "  raiz_quadrada = math.sqrt(numero)\n",
        "  print(f\"A raiz quadrada de {numero} é {raiz_quadrada}: .2f. \")\n",
        "else:\n",
        "  print(\"Não existe raiz real para este número!\")\n",
        ""
      ]
    }
  ]
}