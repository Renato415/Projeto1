{
  "nbformat": 4,
  "nbformat_minor": 0,
  "metadata": {
    "colab": {
      "provenance": [],
      "authorship_tag": "ABX9TyM7s7yd0nmDzP7snqgQjNY1",
      "include_colab_link": true
    },
    "kernelspec": {
      "name": "python3",
      "display_name": "Python 3"
    },
    "language_info": {
      "name": "python"
    }
  },
  "cells": [
    {
      "cell_type": "markdown",
      "metadata": {
        "id": "view-in-github",
        "colab_type": "text"
      },
      "source": [
        "<a href=\"https://colab.research.google.com/github/Renato415/Projeto1/blob/main/Untitled14.ipynb\" target=\"_parent\"><img src=\"https://colab.research.google.com/assets/colab-badge.svg\" alt=\"Open In Colab\"/></a>"
      ]
    },
    {
      "cell_type": "code",
      "source": [
        "#ENTRADA DO PROGRAMA\n",
        "  #Imprimir (\"Digite a letra a:\") e ler_e_guardar(a)\n",
        "a = input(\"Digite a letra a:\")\n",
        "  #Imprimir (\"Digite a letra b:\") e ler_e_guardar(b)\n",
        "b = input(\"Digete a letra b:\")\n",
        "#PROCESSAMENTO\n",
        "  #Processar soma = real(a) + real(b)\n",
        "soma = float(a) + float(b)\n",
        "#SAÍDA NA TELA\n",
        "  #Imprimir(soma)\n",
        "print(soma)\n",
        "\n",
        "\n"
      ],
      "metadata": {
        "colab": {
          "base_uri": "https://localhost:8080/"
        },
        "id": "W3iQmZ1B6Jr_",
        "outputId": "22801bd9-06fb-49f3-d66a-79c1b3cf3176"
      },
      "execution_count": 5,
      "outputs": [
        {
          "output_type": "stream",
          "name": "stdout",
          "text": [
            "Digite a letra a:100\n",
            "Digete a letra b:50\n",
            "150.0\n"
          ]
        }
      ]
    },
    {
      "cell_type": "code",
      "source": [],
      "metadata": {
        "id": "qyfZe_JeBmCA"
      },
      "execution_count": null,
      "outputs": []
    },
    {
      "cell_type": "code",
      "source": [],
      "metadata": {
        "id": "IObzLY-DDbLH"
      },
      "execution_count": null,
      "outputs": []
    },
    {
      "cell_type": "markdown",
      "source": [
        "#EXEMPLO 02\n",
        "Crie um cópodigo de programa em linguragem python para solicitar dois valores a e b em seguida calcular e exibir o resultado de:\n",
        "\n"
      ],
      "metadata": {
        "id": "u53KPbmwCwrH"
      }
    },
    {
      "cell_type": "code",
      "source": [
        "from importlib.util import spec_from_file_location\n",
        "#ENTRADA DO PROGRAMA\n",
        "a = float(input(\"Digite a:\"))\n",
        "b = float(input(\"Digite b:\"))\n",
        "\n",
        "\n",
        "#PROCESSAMENTOS\n",
        "soma = a + b\n",
        "subtracao = a - b\n",
        "multiplicacao = a * b\n",
        "divisao = a / b\n",
        "resto = a % b\n",
        "potencia = a ** b\n",
        "\n",
        "\n",
        "#SAÍDA NA TELA\n",
        "print(\"Soma = \" + str(soma))\n",
        "print(\"Subtracao = \" + str(subtracao))\n",
        "print(\"Multiplicacao = \" +  str(multiplicacao))\n",
        "print(\"Divisao = \" + str(divisao))\n",
        "print(\"Resto da divisao de a por b = \" + str(resto))\n",
        "print(\"a elevado a b = \" + str(potencia))\n",
        "\n",
        "\n"
      ],
      "metadata": {
        "colab": {
          "base_uri": "https://localhost:8080/"
        },
        "id": "DPi3kQiyDmJC",
        "outputId": "3646f803-27bd-4155-8863-3a5daa66cbcf"
      },
      "execution_count": 7,
      "outputs": [
        {
          "output_type": "stream",
          "name": "stdout",
          "text": [
            "Digite a:10\n",
            "Digite b:2\n",
            "Soma = 12.0\n",
            "Subtracao = 8.0\n",
            "Multiplicacao = 20.0\n",
            "Divisao = 5.0\n",
            "Resto da divisao de a por b = 0.0\n",
            "a elevado a b = 100.0\n"
          ]
        }
      ]
    },
    {
      "cell_type": "markdown",
      "source": [
        "#EXEMPLO 03 **ACESSAR FLUXOGRAMA**\n",
        "\n",
        "Crie um código de programa em linguagem python para solicitar dois valores de nota p1 e p2 e em seguida calcular e exibir o resultado da média destas notas.\n"
      ],
      "metadata": {
        "id": "59u_8h4nLQ47"
      }
    },
    {
      "cell_type": "code",
      "source": [
        "#ENTRADAS DO PROGRAMA\n",
        "p1 = float(input(\"Digite nota p1:\"))\n",
        "p2 = float(input(\"Digite nota p2:\"))\n",
        "#PROCESSAMENTO\n",
        "m = (p1+p2)/2\n",
        "#SAÍDA NA TELA\n",
        "print(\"Média = \"+ str(m))\n"
      ],
      "metadata": {
        "colab": {
          "base_uri": "https://localhost:8080/"
        },
        "id": "m9fPxlhDNScj",
        "outputId": "bc8e33a8-6703-4e7a-fc4b-ef7bda8d8a35"
      },
      "execution_count": 10,
      "outputs": [
        {
          "output_type": "stream",
          "name": "stdout",
          "text": [
            "Digite nota p1:7\n",
            "Digite nota p2:8\n",
            "Média = 7.5\n"
          ]
        }
      ]
    },
    {
      "cell_type": "code",
      "source": [
        "#solicita ao usuário que insira sua idade\n",
        "idade = int(input(\"Digite a sua idade:\"))\n",
        "\n",
        "#verifica se a idade é maior ou igual a 16 anos e menor que 70 anos\n",
        "if 16 <= idade < 70:\n",
        "  print(\"Você está na faixa etária entre 16 e 70 anos.\")\n",
        "else:\n",
        "  print(\"Você está fora da faixa etária entre 16 e 70 anos.\")\n"
      ],
      "metadata": {
        "colab": {
          "base_uri": "https://localhost:8080/"
        },
        "id": "RVUrytnus6Rb",
        "outputId": "b040e8d8-4552-41c2-bd5f-a58173049de4"
      },
      "execution_count": 12,
      "outputs": [
        {
          "output_type": "stream",
          "name": "stdout",
          "text": [
            "Digite a sua idade:71\n",
            "Você está fora da faixa etária entre 16 e 70 anos.\n"
          ]
        }
      ]
    },
    {
      "cell_type": "code",
      "source": [
        "a = float(input(\"Digite a letra a:\"))\n",
        "b = float(input(\"Digite a letra b:\"))\n",
        "c = float(input(\"Digite a letra c:\"))\n",
        "if a<=b and a<=c:\n",
        "  menor = a\n",
        "elif b <= a and b <= c:\n",
        "  menor = b\n",
        "else:\n",
        "    menor = c\n",
        "print(menor)"
      ],
      "metadata": {
        "colab": {
          "base_uri": "https://localhost:8080/"
        },
        "id": "uE0pBvi_jvf6",
        "outputId": "0ced49f5-e7de-4aa4-991e-8ef242e32890"
      },
      "execution_count": 5,
      "outputs": [
        {
          "output_type": "stream",
          "name": "stdout",
          "text": [
            "Digite a letra a:5\n",
            "Digite a letra b:6\n",
            "Digite a letra c:5\n",
            "5.0\n"
          ]
        }
      ]
    },
    {
      "cell_type": "code",
      "source": [],
      "metadata": {
        "id": "JXHz7ev5rjAH"
      },
      "execution_count": null,
      "outputs": []
    }
  ]
}