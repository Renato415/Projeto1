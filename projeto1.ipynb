{
  "nbformat": 4,
  "nbformat_minor": 0,
  "metadata": {
    "colab": {
      "provenance": [],
      "authorship_tag": "ABX9TyOnYSb8Uhc7rWTacMDy4FLP",
      "include_colab_link": true
    },
    "kernelspec": {
      "name": "python3",
      "display_name": "Python 3"
    },
    "language_info": {
      "name": "python"
    }
  },
  "cells": [
    {
      "cell_type": "markdown",
      "metadata": {
        "id": "view-in-github",
        "colab_type": "text"
      },
      "source": [
        "<a href=\"https://colab.research.google.com/github/Renato415/Projeto1/blob/main/projeto1.ipynb\" target=\"_parent\"><img src=\"https://colab.research.google.com/assets/colab-badge.svg\" alt=\"Open In Colab\"/></a>"
      ]
    },
    {
      "cell_type": "markdown",
      "source": [
        "Passo 09 Principios básicos do Python"
      ],
      "metadata": {
        "id": "vluoW8OfbIGf"
      }
    },
    {
      "cell_type": "code",
      "source": [
        "n1 = int (input(\"Digite o valor 1:\"))\n",
        "n2 = int (input(\"Digite o valor 2:\"))\n",
        "n3 = 20\n",
        "n4 = n1 + n2 + n3\n",
        "print (\"Soma: \" + str(n4))\n"
      ],
      "metadata": {
        "colab": {
          "base_uri": "https://localhost:8080/"
        },
        "id": "MCNvsX9Ca9lj",
        "outputId": "cb5502f5-5e83-4a81-b318-d58866a26b3e"
      },
      "execution_count": 6,
      "outputs": [
        {
          "output_type": "stream",
          "name": "stdout",
          "text": [
            "Digite o valor 1:3\n",
            "Digite o valor 2:2\n",
            "Soma: 25\n"
          ]
        }
      ]
    },
    {
      "cell_type": "markdown",
      "source": [
        "PASSO 06: Declaração de variáveis\n"
      ],
      "metadata": {
        "id": "xROgt-jSWHot"
      }
    },
    {
      "cell_type": "code",
      "source": [
        "from typing import TextIO\n",
        "#VARIÁVEIS\n",
        "X = 2\n",
        "P = 3.1415\n",
        "VERDADEIRO = True\n",
        "texto = 'isto é uma string'\n",
        "texto1 = \"ito também é uma string\"\n",
        "c = 3 + 2\n",
        "print(X)\n",
        "print(P)\n",
        "print(VERDADEIRO)\n",
        "print(texto)\n",
        "print(texto1)\n",
        "\n"
      ],
      "metadata": {
        "colab": {
          "base_uri": "https://localhost:8080/"
        },
        "id": "H94X5BYmWahL",
        "outputId": "7354ccbf-0b2e-4215-9e60-cebcc57fda69"
      },
      "execution_count": 5,
      "outputs": [
        {
          "output_type": "stream",
          "name": "stdout",
          "text": [
            "2\n",
            "3.1415\n",
            "True\n",
            "isto é uma string\n",
            "ito também é uma string\n"
          ]
        }
      ]
    },
    {
      "cell_type": "code",
      "source": [
        "#VARIÁVEIS\n",
        "n3 = 20\n",
        "n4 = n3 * 10\n",
        "print(\"Resultado n3*n4 =\" + str(n4))\n",
        "print (n4)\n",
        "n3 = \"Mack\"\n",
        "print (n3)\n",
        "\n"
      ],
      "metadata": {
        "colab": {
          "base_uri": "https://localhost:8080/"
        },
        "id": "Je_sb2hCSBZZ",
        "outputId": "0ecdda3a-5c84-4ee2-9059-5a06ed0c910d"
      },
      "execution_count": 3,
      "outputs": [
        {
          "output_type": "stream",
          "name": "stdout",
          "text": [
            "Resultado n3*n4 =200\n",
            "200\n",
            "Mack\n"
          ]
        }
      ]
    },
    {
      "cell_type": "code",
      "source": [
        "#EXEMPLO 01\n",
        "#ENTRADAS DO PROGRAMA\n",
        "a = input(\"Digite a:\")\n",
        "b = input(\"Digite b:\")\n",
        "#PROCESSAMENTO\n",
        "soma = int(a)+int(b)\n",
        "#SAÍDA NA TELA\n",
        "print(soma)"
      ],
      "metadata": {
        "colab": {
          "base_uri": "https://localhost:8080/"
        },
        "id": "Of4_JA8CI2Hv",
        "outputId": "4f35610e-aba2-4d3f-84f0-02dbb1337148"
      },
      "execution_count": 1,
      "outputs": [
        {
          "output_type": "stream",
          "name": "stdout",
          "text": [
            "Digite a:3\n",
            "Digite b:5\n",
            "8\n"
          ]
        }
      ]
    },
    {
      "cell_type": "code",
      "execution_count": null,
      "metadata": {
        "colab": {
          "base_uri": "https://localhost:8080/"
        },
        "id": "YfqjaRfLocEw",
        "outputId": "389ecef4-4dcd-474b-defb-580641e739f2"
      },
      "outputs": [
        {
          "output_type": "stream",
          "name": "stdout",
          "text": [
            "5\n",
            "-1\n",
            "6\n",
            "0.6666666666666666\n",
            "0\n",
            "2\n",
            "8\n"
          ]
        }
      ],
      "source": [
        "#OPERADORES ARITIMÉTICOS\n",
        "print(2+3)\n",
        "print(2-3)\n",
        "print(2*3)\n",
        "print(2/3)\n",
        "print(2//3)\n",
        "print(2%3)\n",
        "print(2**3)\n"
      ]
    }
  ]
}